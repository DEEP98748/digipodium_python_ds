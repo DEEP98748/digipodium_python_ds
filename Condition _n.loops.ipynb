{
 "cells": [
  {
   "cell_type": "code",
   "execution_count": 1,
   "metadata": {},
   "outputs": [
    {
     "name": "stdout",
     "output_type": "stream",
     "text": [
      "Yahoo\n"
     ]
    }
   ],
   "source": [
    "x = 13\n",
    "if x> 10:\n",
    "        print(\"Yahoo\")"
   ]
  },
  {
   "cell_type": "code",
   "execution_count": 2,
   "metadata": {},
   "outputs": [],
   "source": [
    "x = 10 \n",
    "y = 3\n"
   ]
  },
  {
   "cell_type": "code",
   "execution_count": 3,
   "metadata": {},
   "outputs": [
    {
     "name": "stdout",
     "output_type": "stream",
     "text": [
      "x is greater yhan y\n"
     ]
    }
   ],
   "source": [
    "if x > y :\n",
    "        print(\"x is greater than y\")\n"
   ]
  },
  {
   "cell_type": "code",
   "execution_count": 8,
   "metadata": {},
   "outputs": [
    {
     "name": "stdout",
     "output_type": "stream",
     "text": [
      "X is greater than 5\n"
     ]
    }
   ],
   "source": [
    "if x > 5:\n",
    "        print (\"X is greater than 5\")\n",
    "else :\n",
    "        print(\"x is not greater than 5\")       \n",
    "    "
   ]
  },
  {
   "cell_type": "code",
   "execution_count": 9,
   "metadata": {},
   "outputs": [
    {
     "name": "stdout",
     "output_type": "stream",
     "text": [
      "x and y are greater than 5\n"
     ]
    }
   ],
   "source": [
    "if x > 5:\n",
    "        if y >1:\n",
    "             print(\"x and y are greater than 5\")\n",
    "        else:\n",
    "             print(\"x is greater than 5 butb y is not greater than 5\")\n",
    "else:\n",
    "      print(\"x is not greater than 5\")\n",
    "           \n",
    "\n",
    "                "
   ]
  },
  {
   "cell_type": "code",
   "execution_count": 10,
   "metadata": {},
   "outputs": [
    {
     "name": "stdout",
     "output_type": "stream",
     "text": [
      "z is greater than x and y\n"
     ]
    }
   ],
   "source": [
    "# multiple conditions statements \n",
    "\n",
    "x, y, z = 10, 3, 15\n",
    "if x > y and x >z:\n",
    "    print(\"x is greater than y and z\")\n",
    "elif y > x and y >z:\n",
    "    print(\" y is greater than x and y\")\n",
    "elif z > x and  z >y:\n",
    "    print (\"z is greater than x and y\")\n",
    "else:\n",
    "    print(\"x, y and z are equal\")            "
   ]
  },
  {
   "cell_type": "code",
   "execution_count": null,
   "metadata": {},
   "outputs": [],
   "source": [
    "day = input ('Enter tha day of the week: ')\n",
    "if day == 'Sunday':\n",
    "    print ('Today is Sunday')\n",
    "elif day == 'Monday':\n",
    "    print ('Today is Monday')\n",
    "elif day == 'Tuesday':\n",
    "    print ('Today is Tuesday')\n",
    "        \n"
   ]
  }
 ],
 "metadata": {
  "kernelspec": {
   "display_name": "base",
   "language": "python",
   "name": "python3"
  },
  "language_info": {
   "codemirror_mode": {
    "name": "ipython",
    "version": 3
   },
   "file_extension": ".py",
   "mimetype": "text/x-python",
   "name": "python",
   "nbconvert_exporter": "python",
   "pygments_lexer": "ipython3",
   "version": "3.10.10"
  },
  "orig_nbformat": 4
 },
 "nbformat": 4,
 "nbformat_minor": 2
}
