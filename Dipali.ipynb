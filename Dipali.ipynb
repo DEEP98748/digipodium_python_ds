{
 "cells": [
  {
   "cell_type": "code",
   "execution_count": 1,
   "metadata": {},
   "outputs": [
    {
     "name": "stdout",
     "output_type": "stream",
     "text": [
      "Hello World\n"
     ]
    }
   ],
   "source": [
    "print (\"Hello World\")"
   ]
  },
  {
   "cell_type": "code",
   "execution_count": 2,
   "metadata": {},
   "outputs": [
    {
     "name": "stdout",
     "output_type": "stream",
     "text": [
      "2005107999248\n",
      "2005107999248\n",
      "2005186674608\n"
     ]
    }
   ],
   "source": [
    "a = 10\n",
    "b = a\n",
    "print(id(a))  \n",
    "print(id(b))  \n",
    "# Reassigned variable a  \n",
    "a = 500  \n",
    "print(id(a))  \n"
   ]
  },
  {
   "cell_type": "code",
   "execution_count": 6,
   "metadata": {},
   "outputs": [
    {
     "name": "stdout",
     "output_type": "stream",
     "text": [
      "Dipali\n",
      "23\n",
      "Lucknow\n",
      "22\n"
     ]
    }
   ],
   "source": [
    "name = \"Dipali\"\n",
    "age = 23\n",
    "address = \"Lucknow\"\n",
    "enroll  = 22\n",
    "\n",
    "print (name)\n",
    "print (age)\n",
    "print (address)\n",
    "print (enroll )"
   ]
  },
  {
   "cell_type": "code",
   "execution_count": 5,
   "metadata": {},
   "outputs": [
    {
     "name": "stdout",
     "output_type": "stream",
     "text": [
      "Devansh\n",
      "20\n",
      "80.5\n"
     ]
    }
   ],
   "source": [
    "name = \"Devansh\"  \n",
    "age = 20  \n",
    "marks = 80.50  \n",
    "  \n",
    "print(name)  \n",
    "print(age)  \n",
    "print(marks)  "
   ]
  },
  {
   "cell_type": "code",
   "execution_count": 7,
   "metadata": {},
   "outputs": [
    {
     "name": "stdout",
     "output_type": "stream",
     "text": [
      "20\n",
      "20\n",
      "20\n"
     ]
    }
   ],
   "source": [
    "x=y=z=20  \n",
    "print(x)    \n",
    "print(y)    \n",
    "print(z)    "
   ]
  },
  {
   "cell_type": "code",
   "execution_count": 9,
   "metadata": {},
   "outputs": [
    {
     "name": "stdout",
     "output_type": "stream",
     "text": [
      "1\n",
      "2\n",
      "3\n"
     ]
    }
   ],
   "source": [
    "a,b,c=1, 2,3   \n",
    "print  (a)    \n",
    "print (b)    \n",
    "print (c)  "
   ]
  }
 ],
 "metadata": {
  "kernelspec": {
   "display_name": "base",
   "language": "python",
   "name": "python3"
  },
  "language_info": {
   "codemirror_mode": {
    "name": "ipython",
    "version": 3
   },
   "file_extension": ".py",
   "mimetype": "text/x-python",
   "name": "python",
   "nbconvert_exporter": "python",
   "pygments_lexer": "ipython3",
   "version": "3.10.10"
  },
  "orig_nbformat": 4
 },
 "nbformat": 4,
 "nbformat_minor": 2
}
