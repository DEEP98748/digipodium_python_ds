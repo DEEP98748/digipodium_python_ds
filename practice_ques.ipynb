{
 "cells": [
  {
   "cell_type": "code",
   "execution_count": 4,
   "metadata": {},
   "outputs": [
    {
     "name": "stdout",
     "output_type": "stream",
     "text": [
      "1\n",
      "2\n",
      "3\n",
      "4\n",
      "5\n",
      "6\n",
      "7\n",
      "8\n",
      "9\n",
      "10\n"
     ]
    }
   ],
   "source": [
    "#loops\n",
    "#Write a program to print numbers from 1 to 10 using a for loop.\n",
    "for i in range(1, 11):\n",
    "    print (i)"
   ]
  },
  {
   "cell_type": "code",
   "execution_count": 8,
   "metadata": {},
   "outputs": [
    {
     "name": "stdout",
     "output_type": "stream",
     "text": [
      "1 * 2 = 2\n",
      "2 * 2 = 4\n"
     ]
    }
   ],
   "source": [
    "#Write a program to print the multiplication table of a given number using a while loop\n",
    "table=int(input(\"Enter the table :\"))\n",
    "start=int(input(\"Enter the starting number : \"))\n",
    "limit=int(input(\"Enter the limit :\"))\n",
    "while(start<=limit):\n",
    "  print(start,\"*\",table,\"=\",start*table)\n",
    "  start=start+1"
   ]
  },
  {
   "cell_type": "code",
   "execution_count": 9,
   "metadata": {},
   "outputs": [
    {
     "name": "stdout",
     "output_type": "stream",
     "text": [
      "The sum of all even numbers between 1 and 100 is: 2550\n"
     ]
    }
   ],
   "source": [
    "#Write a program to find the sum of all even numbers between 1 and 100 using a for loop\n",
    "sum_even = 0\n",
    "for num in range(2, 101, 2):\n",
    "    sum_even += num\n",
    "print(\"The sum of all even numbers between 1 and 100 is:\", sum_even)"
   ]
  },
  {
   "cell_type": "code",
   "execution_count": null,
   "metadata": {},
   "outputs": [],
   "source": []
  }
 ],
 "metadata": {
  "kernelspec": {
   "display_name": "base",
   "language": "python",
   "name": "python3"
  },
  "language_info": {
   "codemirror_mode": {
    "name": "ipython",
    "version": 3
   },
   "file_extension": ".py",
   "mimetype": "text/x-python",
   "name": "python",
   "nbconvert_exporter": "python",
   "pygments_lexer": "ipython3",
   "version": "3.10.10"
  },
  "orig_nbformat": 4
 },
 "nbformat": 4,
 "nbformat_minor": 2
}
