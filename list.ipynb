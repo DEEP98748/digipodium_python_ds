{
 "cells": [
  {
   "cell_type": "code",
   "execution_count": 5,
   "metadata": {},
   "outputs": [
    {
     "name": "stdout",
     "output_type": "stream",
     "text": [
      "['apple', 'banana', 'cheery', 'orange', 'melon', 'mango ']\n"
     ]
    }
   ],
   "source": [
    "x = [1,2,3,4,5,6,7,8,9,10]\n",
    "y = [] #empty\n",
    "z = ['apple','banana', 'cheery', 'orange', 'melon', 'mango ']\n",
    "a = ['alex', 5 , 'Sam',7, 'john',10,'james',15 ]\n",
    "a3 = [ [1,2,3],\n",
    "       [4,5,6],\n",
    "       [7,8,9]\n",
    "       ]\n",
    "print(z)"
   ]
  },
  {
   "cell_type": "code",
   "execution_count": 6,
   "metadata": {},
   "outputs": [],
   "source": [
    "class Movie:\n",
    "    def __init__(self,name,year):\n",
    "        self.name = name\n",
    "        self.year = year\n",
    "movies = [\n",
    "        Movie(\"The Matrix\",1999),\n",
    "        Movie(\"The Matrix Reloaded\",2003),   # objects \n",
    "        Movie(\"The Matrix Revolution\",2003),\n",
    "        Movie(\"The Matrix Resurrections\",2021),\n",
    "]"
   ]
  },
  {
   "cell_type": "code",
   "execution_count": 7,
   "metadata": {},
   "outputs": [
    {
     "data": {
      "text/plain": [
       "['D', 'i', 'p', 'a', 'l', 'i', ' ', 'G', 'u', 'p', 't', 'a']"
      ]
     },
     "execution_count": 7,
     "metadata": {},
     "output_type": "execute_result"
    }
   ],
   "source": [
    "name = 'Dipali Gupta'\n",
    "list(name)"
   ]
  },
  {
   "cell_type": "code",
   "execution_count": 8,
   "metadata": {},
   "outputs": [
    {
     "data": {
      "text/plain": [
       "[1, 2, 3, 4, 5, 6, 7, 8, 9, 10]"
      ]
     },
     "execution_count": 8,
     "metadata": {},
     "output_type": "execute_result"
    }
   ],
   "source": [
    "list(range(1,11))"
   ]
  },
  {
   "cell_type": "code",
   "execution_count": 9,
   "metadata": {},
   "outputs": [
    {
     "data": {
      "text/plain": [
       "'D'"
      ]
     },
     "execution_count": 9,
     "metadata": {},
     "output_type": "execute_result"
    }
   ],
   "source": [
    "name[0]"
   ]
  },
  {
   "cell_type": "code",
   "execution_count": 10,
   "metadata": {},
   "outputs": [
    {
     "name": "stdout",
     "output_type": "stream",
     "text": [
      "alex\n",
      "15\n",
      "james\n",
      "5\n"
     ]
    }
   ],
   "source": [
    "print(a[0])\n",
    "print(a[-1])\n",
    "print(a[-2])\n",
    "print(a[1])"
   ]
  },
  {
   "cell_type": "code",
   "execution_count": 11,
   "metadata": {},
   "outputs": [
    {
     "name": "stdout",
     "output_type": "stream",
     "text": [
      "[1, 2, 3, 4, 5, 6, 7, 8, 9, 10]\n",
      "[11, 12, 13, 14, 15, 16, 17, 18, 19, 20]\n",
      "[91, 92, 93, 94, 95, 96, 97, 98, 99, 100]\n",
      "[24, 25, 26, 27, 28, 29, 30, 31, 32, 33, 34, 35, 36]\n",
      "[51, 50, 49, 48, 47, 46, 45, 44, 43, 42, 41, 40, 39, 38, 37, 36, 35, 34, 33, 32]\n",
      "[100, 99, 98, 97, 96, 95, 94, 93, 92, 91, 90, 89, 88, 87, 86, 85, 84, 83, 82, 81, 80, 79, 78, 77, 76, 75, 74, 73, 72, 71, 70, 69, 68, 67, 66, 65, 64, 63, 62, 61, 60, 59, 58, 57, 56, 55, 54, 53, 52, 51, 50, 49, 48, 47, 46, 45, 44, 43, 42, 41, 40, 39, 38, 37, 36, 35, 34, 33, 32, 31, 30, 29, 28, 27, 26, 25, 24, 23, 22, 21, 20, 19, 18, 17, 16, 15, 14, 13, 12, 11, 10, 9, 8, 7, 6, 5, 4, 3, 2, 1]\n",
      "[2, 4, 6, 8, 10, 12, 14, 16, 18, 20, 22, 24, 26, 28, 30, 32, 34, 36, 38, 40, 42, 44, 46, 48, 50, 52, 54, 56, 58, 60, 62, 64, 66, 68, 70, 72, 74, 76, 78, 80, 82, 84, 86, 88, 90, 92, 94, 96, 98, 100]\n"
     ]
    }
   ],
   "source": [
    "data = list(range(1,101))\n",
    "print(data[:10])\n",
    "print(data[10:20])\n",
    "print(data[-10:])  # accessing list elements\n",
    "print(data[23:36])\n",
    "print(data[50:30:-1])# reverse slice\n",
    "print(data[::-1]) # reverse list\n",
    "print(data[1::2]) # odd numbers"
   ]
  },
  {
   "cell_type": "code",
   "execution_count": 12,
   "metadata": {},
   "outputs": [
    {
     "name": "stdout",
     "output_type": "stream",
     "text": [
      "alex\n",
      "5\n",
      "Sam\n",
      "7\n",
      "john\n",
      "10\n",
      "james\n",
      "15\n"
     ]
    }
   ],
   "source": [
    "for i in a:\n",
    "    print(i)"
   ]
  },
  {
   "cell_type": "code",
   "execution_count": 13,
   "metadata": {},
   "outputs": [],
   "source": [
    "movies = []\n",
    "movies.append(\"Shrek\")\n",
    "movies.append(\"Shamshera\")\n",
    "movies.append('Bloody daddy')\n",
    "movies.append(\"Bhool Bhulaiyaa\")"
   ]
  },
  {
   "cell_type": "code",
   "execution_count": 14,
   "metadata": {},
   "outputs": [
    {
     "name": "stdout",
     "output_type": "stream",
     "text": [
      "['Shrek', 'Shamshera', 'Bloody daddy', 'Bhool Bhulaiyaa', 'Bloody daddy']\n"
     ]
    }
   ],
   "source": [
    "movie_name = input(\"Enter the name \")\n",
    "movies.append(movie_name)\n",
    "print(movies)"
   ]
  },
  {
   "cell_type": "code",
   "execution_count": 16,
   "metadata": {},
   "outputs": [
    {
     "name": "stdout",
     "output_type": "stream",
     "text": [
      "['Shrek', 'Shamshera', 'Jalebi', 'Kungu fu', 'Bloody daddy', 'Bhool Bhulaiyaa', 'Bloody daddy']\n"
     ]
    }
   ],
   "source": [
    "movies.insert(2,'Jalebi')\n",
    "print(movies)"
   ]
  },
  {
   "cell_type": "code",
   "execution_count": 18,
   "metadata": {},
   "outputs": [
    {
     "name": "stdout",
     "output_type": "stream",
     "text": [
      "[1, 2, 3, 4, 5, 6, 7, 8, 9, 10]\n"
     ]
    }
   ],
   "source": [
    "# extend function\n",
    "x = [1,2,3,4,5]\n",
    "y =[6,7,8,9,10]\n",
    "x+y # creates a new list\n",
    "x.extend(y) # modifies list x\n",
    "print(x)"
   ]
  },
  {
   "cell_type": "code",
   "execution_count": 20,
   "metadata": {},
   "outputs": [
    {
     "data": {
      "text/plain": [
       "['Shrek',\n",
       " 'Shamshera',\n",
       " 'Jalebi',\n",
       " 'Kungu fu',\n",
       " 'Bloody daddy',\n",
       " 'Bhool Bhulaiyaa',\n",
       " 'Bloody daddy']"
      ]
     },
     "execution_count": 20,
     "metadata": {},
     "output_type": "execute_result"
    }
   ],
   "source": [
    "movies"
   ]
  },
  {
   "cell_type": "code",
   "execution_count": 21,
   "metadata": {},
   "outputs": [
    {
     "data": {
      "text/plain": [
       "'Jalebi'"
      ]
     },
     "execution_count": 21,
     "metadata": {},
     "output_type": "execute_result"
    }
   ],
   "source": [
    "movies.pop(2) # pop(remove) last occurrence of that element"
   ]
  },
  {
   "cell_type": "code",
   "execution_count": 22,
   "metadata": {},
   "outputs": [],
   "source": [
    "movies.remove(\"Kungu fu\") # removes only first occurrence of the element"
   ]
  },
  {
   "cell_type": "code",
   "execution_count": 23,
   "metadata": {},
   "outputs": [
    {
     "name": "stdout",
     "output_type": "stream",
     "text": [
      "['Shrek', 'Shamshera', 'Bloody daddy', 'Bhool Bhulaiyaa', 'Bloody daddy']\n",
      "['Shrek', 'Shamshera', 'Bloody daddy', 'Bloody daddy']\n"
     ]
    }
   ],
   "source": [
    "print(movies)\n",
    "movies.pop(3)\n",
    "print(movies)"
   ]
  },
  {
   "cell_type": "code",
   "execution_count": 24,
   "metadata": {},
   "outputs": [
    {
     "name": "stdout",
     "output_type": "stream",
     "text": [
      "['Shrek', 'Shamshera', 'Bloody daddy', 'Bloody daddy']\n"
     ]
    }
   ],
   "source": [
    "if 'inception' in movies:\n",
    "    movies.remove('inception')\n",
    "else:\n",
    "    print(movies)"
   ]
  },
  {
   "cell_type": "code",
   "execution_count": 25,
   "metadata": {},
   "outputs": [
    {
     "name": "stdout",
     "output_type": "stream",
     "text": [
      "['Shamshera', 'Bloody daddy', 'Bloody daddy']\n"
     ]
    }
   ],
   "source": [
    "value  = 'Shrek'\n",
    "if value in movies:\n",
    "    movies.remove(value)\n",
    "else:\n",
    "    print('value not found')\n",
    "print(movies)"
   ]
  },
  {
   "cell_type": "code",
   "execution_count": 26,
   "metadata": {},
   "outputs": [],
   "source": [
    "movies.clear()"
   ]
  },
  {
   "cell_type": "code",
   "execution_count": 27,
   "metadata": {},
   "outputs": [],
   "source": [
    "del a # destructor (deletes any kind of variable)"
   ]
  },
  {
   "cell_type": "code",
   "execution_count": 28,
   "metadata": {},
   "outputs": [
    {
     "data": {
      "text/plain": [
       "0"
      ]
     },
     "execution_count": 28,
     "metadata": {},
     "output_type": "execute_result"
    }
   ],
   "source": [
    "Books = ['Physics','ML Aggrawal Maths','Chemistry','Java','Learn Python the hard way','Object oriented Programming C++']\n",
    "Books.index('Physics') # searching "
   ]
  },
  {
   "cell_type": "code",
   "execution_count": 29,
   "metadata": {},
   "outputs": [
    {
     "name": "stdout",
     "output_type": "stream",
     "text": [
      "2\n",
      "6\n",
      "1\n"
     ]
    }
   ],
   "source": [
    "numbers = [1,2,2,3,3,3,3,3,3,4]\n",
    "print(numbers.count(2))\n",
    "print(numbers.count(3))\n",
    "print(numbers.count(4))"
   ]
  },
  {
   "cell_type": "code",
   "execution_count": 30,
   "metadata": {},
   "outputs": [
    {
     "name": "stdout",
     "output_type": "stream",
     "text": [
      "['Chemistry', 'Java', 'Learn Python the hard way', 'ML Aggrawal Maths', 'Object oriented Programming C++', 'Physics']\n"
     ]
    }
   ],
   "source": [
    "Books.sort()  # mixed data type list cannot be sorted down\n",
    "print(Books)"
   ]
  },
  {
   "cell_type": "code",
   "execution_count": 31,
   "metadata": {},
   "outputs": [
    {
     "name": "stdout",
     "output_type": "stream",
     "text": [
      "['Physics', 'Object oriented Programming C++', 'ML Aggrawal Maths', 'Learn Python the hard way', 'Java', 'Chemistry']\n"
     ]
    }
   ],
   "source": [
    "Books.reverse() # runtime permanent reverse\n",
    "print(Books)"
   ]
  },
  {
   "cell_type": "code",
   "execution_count": 32,
   "metadata": {},
   "outputs": [],
   "source": [
    "Books_backup = Books.copy() # making a backup of the books list\n",
    "# a copy of variable is created at a different memory location "
   ]
  },
  {
   "cell_type": "code",
   "execution_count": 33,
   "metadata": {},
   "outputs": [
    {
     "name": "stdout",
     "output_type": "stream",
     "text": [
      "['Physics', 'Object oriented Programming C++', 'ML Aggrawal Maths', 'Learn Python the hard way', 'Java', 'Chemistry']\n",
      "['Physics', 'Object oriented Programming C++', 'ML Aggrawal Maths', 'Learn Python the hard way', 'Java', 'Chemistry', 'The Alloy of Law']\n",
      "['Physics', 'Object oriented Programming C++', 'ML Aggrawal Maths', 'Learn Python the hard way', 'Java', 'Chemistry', 'The Alloy of Law']\n",
      "['Physics', 'Object oriented Programming C++', 'ML Aggrawal Maths', 'Learn Python the hard way', 'Java', 'Chemistry']\n"
     ]
    }
   ],
   "source": [
    "print(Books_backup)\n",
    "books2 = Books # No two variables point to the same memory location \n",
    "Books.append('The Alloy of Law')\n",
    "print(Books)\n",
    "print(books2)\n",
    "print(Books_backup)"
   ]
  },
  {
   "cell_type": "code",
   "execution_count": 34,
   "metadata": {},
   "outputs": [
    {
     "data": {
      "text/plain": [
       "True"
      ]
     },
     "execution_count": 34,
     "metadata": {},
     "output_type": "execute_result"
    }
   ],
   "source": [
    "books2 is Books # memory location of Books is equal to books2"
   ]
  },
  {
   "cell_type": "code",
   "execution_count": null,
   "metadata": {},
   "outputs": [],
   "source": []
  }
 ],
 "metadata": {
  "kernelspec": {
   "display_name": "base",
   "language": "python",
   "name": "python3"
  },
  "language_info": {
   "codemirror_mode": {
    "name": "ipython",
    "version": 3
   },
   "file_extension": ".py",
   "mimetype": "text/x-python",
   "name": "python",
   "nbconvert_exporter": "python",
   "pygments_lexer": "ipython3",
   "version": "3.10.10"
  },
  "orig_nbformat": 4
 },
 "nbformat": 4,
 "nbformat_minor": 2
}
