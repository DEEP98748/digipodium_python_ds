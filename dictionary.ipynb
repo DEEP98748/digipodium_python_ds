{
 "cells": [
  {
   "cell_type": "code",
   "execution_count": null,
   "metadata": {},
   "outputs": [],
   "source": [
    "### dictionary \n",
    "\n",
    "'''- ordered\n",
    "- mutable\n",
    "- key value pair\n",
    "  - kay are immutable , and unique\n",
    "  - value can be mutable or immutable and can be duplicate and have any type\n",
    "- unindexed '''\n"
   ]
  },
  {
   "cell_type": "code",
   "execution_count": 4,
   "metadata": {},
   "outputs": [],
   "source": [
    "#Creating \n",
    "\n",
    "fruits = {\n",
    "    \"apple\": 2,\n",
    "    \"banana\": 3,\n",
    "     \"orange\": 5\n",
    "     \n",
    "}"
   ]
  },
  {
   "cell_type": "code",
   "execution_count": 5,
   "metadata": {},
   "outputs": [],
   "source": [
    "grocery = {\n",
    "\n",
    "    'fruits':['apple','banana','orange','grapes'],\n",
    "    'vegitables':['carrot','tamato','onion'],\n",
    "    'dairy': ['milk','cheese','yogurt'],\n",
    "    'meat': None        \n",
    "}"
   ]
  },
  {
   "cell_type": "code",
   "execution_count": 6,
   "metadata": {},
   "outputs": [],
   "source": [
    "reports = {\n",
    "    'rajesh':{\n",
    "        'english':90,\n",
    "        'math' : 80,\n",
    "        'Science':70\n",
    "    },\n",
    "     'suresh' : {\n",
    "         'english': 90,\n",
    "         'math': 80,\n",
    "         'science':70\n",
    "     } \n",
    "}"
   ]
  },
  {
   "cell_type": "code",
   "execution_count": 7,
   "metadata": {},
   "outputs": [
    {
     "name": "stdout",
     "output_type": "stream",
     "text": [
      "{'apple': 2, 'banana': 3, 'orange': 5}\n",
      "{'fruits': ['apple', 'banana', 'orange', 'grapes'], 'vegitables': ['carrot', 'tamato', 'onion'], 'dairy': ['milk', 'cheese', 'yogurt'], 'meat': None}\n",
      "{'rajesh': {'english': 90, 'math': 80, 'Science': 70}, 'suresh': {'english': 90, 'math': 80, 'science': 70}}\n"
     ]
    }
   ],
   "source": [
    "print(fruits)\n",
    "print(grocery)\n",
    "print(reports)"
   ]
  },
  {
   "cell_type": "code",
   "execution_count": 8,
   "metadata": {},
   "outputs": [],
   "source": [
    "from pprint import pp"
   ]
  },
  {
   "cell_type": "code",
   "execution_count": 9,
   "metadata": {},
   "outputs": [
    {
     "name": "stdout",
     "output_type": "stream",
     "text": [
      "{'apple': 2, 'banana': 3, 'orange': 5}\n",
      "{'fruits': ['apple', 'banana', 'orange', 'grapes'],\n",
      " 'vegitables': ['carrot', 'tamato', 'onion'],\n",
      " 'dairy': ['milk', 'cheese', 'yogurt'],\n",
      " 'meat': None}\n",
      "{'rajesh': {'english': 90, 'math': 80, 'Science': 70},\n",
      " 'suresh': {'english': 90, 'math': 80, 'science': 70}}\n"
     ]
    }
   ],
   "source": [
    "pp (fruits)\n",
    "pp (grocery)\n",
    "pp (reports)\n"
   ]
  },
  {
   "cell_type": "code",
   "execution_count": 10,
   "metadata": {},
   "outputs": [
    {
     "data": {
      "text/plain": [
       "2"
      ]
     },
     "execution_count": 10,
     "metadata": {},
     "output_type": "execute_result"
    }
   ],
   "source": [
    "fruits ['apple'] # retrieve value from dictioary \n"
   ]
  },
  {
   "cell_type": "code",
   "execution_count": 11,
   "metadata": {},
   "outputs": [
    {
     "name": "stdout",
     "output_type": "stream",
     "text": [
      "{'apple': 10, 'banana': 3, 'orange': 5}\n"
     ]
    }
   ],
   "source": [
    "fruits ['apple'] = 10 # update value in dictionary\n",
    "pp (fruits)"
   ]
  },
  {
   "cell_type": "code",
   "execution_count": 12,
   "metadata": {},
   "outputs": [
    {
     "name": "stdout",
     "output_type": "stream",
     "text": [
      "{'apple': 10, 'banana': 3, 'orange': 5, 'mango': 25}\n"
     ]
    }
   ],
   "source": [
    "fruits ['mango'] = 25 # add new key-value pair  in dictionary\n",
    "pp (fruits)"
   ]
  },
  {
   "cell_type": "code",
   "execution_count": 13,
   "metadata": {},
   "outputs": [
    {
     "name": "stdout",
     "output_type": "stream",
     "text": [
      "{'fruits': ['apple', 'banana', 'orange', 'grapes'],\n",
      " 'vegitables': ['carrot', 'tamato', 'onion'],\n",
      " 'dairy': ['milk', 'cheese', 'yogurt'],\n",
      " 'meat': None,\n",
      " 'spices': ['cumin', 'coriander', 'turmeric']}\n"
     ]
    }
   ],
   "source": [
    "grocery ['spices'] = ['cumin', 'coriander', 'turmeric'] # add new key value pair in dictionary\n",
    "pp (grocery) "
   ]
  },
  {
   "cell_type": "code",
   "execution_count": 14,
   "metadata": {},
   "outputs": [
    {
     "name": "stdout",
     "output_type": "stream",
     "text": [
      "{'fruits': ['apple', 'banana', 'orange', 'grapes', 'mango'],\n",
      " 'vegitables': ['carrot', 'tamato', 'onion'],\n",
      " 'dairy': ['milk', 'cheese', 'yogurt'],\n",
      " 'meat': None,\n",
      " 'spices': ['cumin', 'coriander', 'turmeric']}\n"
     ]
    }
   ],
   "source": [
    "grocery ['fruits'].append ('mango') # add new value in list\n",
    "pp(grocery)"
   ]
  },
  {
   "cell_type": "code",
   "execution_count": 15,
   "metadata": {},
   "outputs": [
    {
     "name": "stdout",
     "output_type": "stream",
     "text": [
      "{'rajesh': {'english': 90, 'math': 80, 'Science': 70, 'evs': 99},\n",
      " 'suresh': {'english': 90, 'math': 80, 'science': 70}}\n"
     ]
    }
   ],
   "source": [
    "reports['rajesh']['evs'] = 99\n",
    "pp (reports)"
   ]
  },
  {
   "cell_type": "code",
   "execution_count": 16,
   "metadata": {},
   "outputs": [
    {
     "data": {
      "text/plain": [
       "3"
      ]
     },
     "execution_count": 16,
     "metadata": {},
     "output_type": "execute_result"
    }
   ],
   "source": [
    "fruits.pop('banana') # remove kay value pair from dictionary"
   ]
  },
  {
   "cell_type": "code",
   "execution_count": 17,
   "metadata": {},
   "outputs": [
    {
     "data": {
      "text/plain": [
       "{'english': 90, 'math': 80, 'Science': 70, 'evs': 99}"
      ]
     },
     "execution_count": 17,
     "metadata": {},
     "output_type": "execute_result"
    }
   ],
   "source": [
    "reports.pop('rajesh') # remove key value pair from dictionary"
   ]
  },
  {
   "cell_type": "code",
   "execution_count": 18,
   "metadata": {},
   "outputs": [
    {
     "data": {
      "text/plain": [
       "{'suresh': {'english': 90, 'math': 80, 'science': 70}}"
      ]
     },
     "execution_count": 18,
     "metadata": {},
     "output_type": "execute_result"
    }
   ],
   "source": [
    "reports"
   ]
  },
  {
   "cell_type": "code",
   "execution_count": 19,
   "metadata": {},
   "outputs": [
    {
     "name": "stdout",
     "output_type": "stream",
     "text": [
      "{'fruits': ['apple', 'banana', 'orange', 'grapes', 'mango'],\n",
      " 'vegitables': ['carrot', 'tamato', 'onion'],\n",
      " 'dairy': ['milk', 'cheese', 'yogurt'],\n",
      " 'meat': None,\n",
      " 'spices': ['cumin', 'coriander', 'turmeric']}\n"
     ]
    }
   ],
   "source": [
    "pp (grocery)"
   ]
  },
  {
   "cell_type": "code",
   "execution_count": 22,
   "metadata": {},
   "outputs": [],
   "source": [
    "grocery[ 'vegitables'].remove('onion') # remove value from list "
   ]
  },
  {
   "cell_type": "code",
   "execution_count": 23,
   "metadata": {},
   "outputs": [
    {
     "data": {
      "text/plain": [
       "dict_keys(['apple', 'orange', 'mango'])"
      ]
     },
     "execution_count": 23,
     "metadata": {},
     "output_type": "execute_result"
    }
   ],
   "source": [
    "fruits.keys() # get all keys from dictionary "
   ]
  },
  {
   "cell_type": "code",
   "execution_count": 24,
   "metadata": {},
   "outputs": [
    {
     "data": {
      "text/plain": [
       "dict_values([10, 5, 25])"
      ]
     },
     "execution_count": 24,
     "metadata": {},
     "output_type": "execute_result"
    }
   ],
   "source": [
    "fruits.values() # get all values from dictionary"
   ]
  },
  {
   "cell_type": "code",
   "execution_count": 29,
   "metadata": {},
   "outputs": [
    {
     "data": {
      "text/plain": [
       "dict_items([('apple', 10), ('orange', 5), ('mango', 25)])"
      ]
     },
     "execution_count": 29,
     "metadata": {},
     "output_type": "execute_result"
    }
   ],
   "source": [
    "fruits.items() #get all key value pair from dictionary"
   ]
  },
  {
   "cell_type": "code",
   "execution_count": 27,
   "metadata": {},
   "outputs": [],
   "source": [
    "#traversal"
   ]
  },
  {
   "cell_type": "code",
   "execution_count": 31,
   "metadata": {},
   "outputs": [
    {
     "name": "stdout",
     "output_type": "stream",
     "text": [
      "apple 10\n",
      "orange 5\n",
      "mango 25\n"
     ]
    }
   ],
   "source": [
    "for k,v in fruits.items():\n",
    "    print(k,v)"
   ]
  },
  {
   "cell_type": "code",
   "execution_count": 33,
   "metadata": {},
   "outputs": [
    {
     "data": {
      "text/plain": [
       "90"
      ]
     },
     "execution_count": 33,
     "metadata": {},
     "output_type": "execute_result"
    }
   ],
   "source": [
    "reports['suresh']['english']"
   ]
  },
  {
   "cell_type": "code",
   "execution_count": 34,
   "metadata": {},
   "outputs": [
    {
     "data": {
      "text/plain": [
       "{'english': 90, 'math': 80, 'science': 70}"
      ]
     },
     "execution_count": 34,
     "metadata": {},
     "output_type": "execute_result"
    }
   ],
   "source": [
    "reports.get('suresh')"
   ]
  },
  {
   "cell_type": "code",
   "execution_count": 35,
   "metadata": {},
   "outputs": [
    {
     "data": {
      "text/plain": [
       "'ye student kabhi aaya hi nhi'"
      ]
     },
     "execution_count": 35,
     "metadata": {},
     "output_type": "execute_result"
    }
   ],
   "source": [
    "reports.get('ramesh', 'ye student kabhi aaya hi nhi')"
   ]
  },
  {
   "cell_type": "code",
   "execution_count": 36,
   "metadata": {},
   "outputs": [
    {
     "data": {
      "text/plain": [
       "{'english': 90, 'math': 80, 'science': 70}"
      ]
     },
     "execution_count": 36,
     "metadata": {},
     "output_type": "execute_result"
    }
   ],
   "source": [
    "reports.get('suresh', 'ye student kabhi aaya hi nhi')"
   ]
  },
  {
   "cell_type": "code",
   "execution_count": 37,
   "metadata": {},
   "outputs": [
    {
     "name": "stdout",
     "output_type": "stream",
     "text": [
      "{'suresh': {'english': 90, 'math': 80, 'science': 70},\n",
      " 'sunita': {'English ': 90, 'math': 80, 'Science': 70}}\n"
     ]
    }
   ],
   "source": [
    "reports ['sunita'] = {\n",
    "    'English ': 90,\n",
    "    'math': 80,\n",
    "    'Science': 70\n",
    "}\n",
    "\n",
    "pp(reports)"
   ]
  },
  {
   "cell_type": "code",
   "execution_count": null,
   "metadata": {},
   "outputs": [],
   "source": [
    "for student, details in reports.items():\n",
    "    print(student)\n",
    "    for subject, marks in details.items():\n",
    "        print(f'{marks} in {subject}')\n",
    "    print('...'*8)"
   ]
  },
  {
   "cell_type": "code",
   "execution_count": 38,
   "metadata": {},
   "outputs": [],
   "source": [
    "# create a dictionary of 5 employee with details\n",
    "\n",
    "Company ={\n",
    "     'e1':{\n",
    "         'name' : 'alex',\n",
    "         'department': 'HR',\n",
    "         'salary' : '100000',\n",
    "         'skills':['communicaion', 'management'],\n",
    "         'projects':{\n",
    "             'project1':{\n",
    "                 'project_name': 'HRMS',\n",
    "                 'project_duration': 6,\n",
    "                 'project_technology': ['excel','power bi ','powerpoint']\n",
    "             },\n",
    "         }\n",
    "     },\n",
    "     'e2':{\n",
    "         'name': 'Ram',\n",
    "         'department': 'Manager',\n",
    "         'salary':'15000',\n",
    "         'skills':['good communication','management skill'],\n",
    "         'Projects':{\n",
    "             'project1':{\n",
    "                'project1':{\n",
    "                 'project_name': 'HRMS',\n",
    "                 'project_duration': 6,\n",
    "                 'project_technology': ['excel','power bi '],\n",
    "             },\n",
    "         }\n",
    "     },\n",
    "     }\n",
    "}\n",
    "\n",
    "\n",
    " "
   ]
  },
  {
   "cell_type": "code",
   "execution_count": null,
   "metadata": {},
   "outputs": [],
   "source": []
  },
  {
   "cell_type": "code",
   "execution_count": null,
   "metadata": {},
   "outputs": [],
   "source": []
  }
 ],
 "metadata": {
  "kernelspec": {
   "display_name": "base",
   "language": "python",
   "name": "python3"
  },
  "language_info": {
   "codemirror_mode": {
    "name": "ipython",
    "version": 3
   },
   "file_extension": ".py",
   "mimetype": "text/x-python",
   "name": "python",
   "nbconvert_exporter": "python",
   "pygments_lexer": "ipython3",
   "version": "3.10.10"
  },
  "orig_nbformat": 4
 },
 "nbformat": 4,
 "nbformat_minor": 2
}
